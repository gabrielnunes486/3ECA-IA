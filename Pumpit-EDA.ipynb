df = pd.read_csv('data/2016 School Explorer.csv')
df.head()
